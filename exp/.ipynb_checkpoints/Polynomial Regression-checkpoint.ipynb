{
 "cells": [
  {
   "cell_type": "markdown",
   "id": "1b4fbf9e",
   "metadata": {},
   "source": [
    "# 다항 회귀 (Polynomial Regression)\n",
    "\n"
   ]
  },
  {
   "cell_type": "markdown",
   "id": "5d1b4273",
   "metadata": {},
   "source": [
    "### 공부 시간에 따른 시험 점수 (우등생)"
   ]
  },
  {
   "cell_type": "code",
   "execution_count": 29,
   "id": "22680adc",
   "metadata": {},
   "outputs": [],
   "source": [
    "import numpy as np\n",
    "import matplotlib.pyplot as plt\n",
    "import pandas as pd"
   ]
  },
  {
   "cell_type": "code",
   "execution_count": 30,
   "id": "215ecc36",
   "metadata": {},
   "outputs": [],
   "source": [
    "dataset = pd.read_csv('./data/ScikitLearn/PolynomialRegressionData.csv')\n",
    "X = dataset.iloc[:,:-1].values\n",
    "y = dataset.iloc[:,-1].values"
   ]
  },
  {
   "cell_type": "code",
   "execution_count": 31,
   "id": "a3971ad7",
   "metadata": {},
   "outputs": [
    {
     "data": {
      "text/html": [
       "<div>\n",
       "<style scoped>\n",
       "    .dataframe tbody tr th:only-of-type {\n",
       "        vertical-align: middle;\n",
       "    }\n",
       "\n",
       "    .dataframe tbody tr th {\n",
       "        vertical-align: top;\n",
       "    }\n",
       "\n",
       "    .dataframe thead th {\n",
       "        text-align: right;\n",
       "    }\n",
       "</style>\n",
       "<table border=\"1\" class=\"dataframe\">\n",
       "  <thead>\n",
       "    <tr style=\"text-align: right;\">\n",
       "      <th></th>\n",
       "      <th>hour</th>\n",
       "      <th>score</th>\n",
       "    </tr>\n",
       "  </thead>\n",
       "  <tbody>\n",
       "    <tr>\n",
       "      <th>0</th>\n",
       "      <td>0.2</td>\n",
       "      <td>2</td>\n",
       "    </tr>\n",
       "    <tr>\n",
       "      <th>1</th>\n",
       "      <td>0.5</td>\n",
       "      <td>4</td>\n",
       "    </tr>\n",
       "    <tr>\n",
       "      <th>2</th>\n",
       "      <td>0.8</td>\n",
       "      <td>6</td>\n",
       "    </tr>\n",
       "    <tr>\n",
       "      <th>3</th>\n",
       "      <td>0.9</td>\n",
       "      <td>4</td>\n",
       "    </tr>\n",
       "    <tr>\n",
       "      <th>4</th>\n",
       "      <td>1.2</td>\n",
       "      <td>6</td>\n",
       "    </tr>\n",
       "  </tbody>\n",
       "</table>\n",
       "</div>"
      ],
      "text/plain": [
       "   hour  score\n",
       "0   0.2      2\n",
       "1   0.5      4\n",
       "2   0.8      6\n",
       "3   0.9      4\n",
       "4   1.2      6"
      ]
     },
     "execution_count": 31,
     "metadata": {},
     "output_type": "execute_result"
    }
   ],
   "source": [
    "dataset.head()"
   ]
  },
  {
   "cell_type": "markdown",
   "id": "0084ce50",
   "metadata": {},
   "source": [
    "## 3-1 단순 선형 회귀 적용"
   ]
  },
  {
   "cell_type": "code",
   "execution_count": 32,
   "id": "3b55f5bb",
   "metadata": {},
   "outputs": [
    {
     "data": {
      "text/plain": [
       "LinearRegression()"
      ]
     },
     "execution_count": 32,
     "metadata": {},
     "output_type": "execute_result"
    }
   ],
   "source": [
    "from sklearn.linear_model import LinearRegression\n",
    "reg = LinearRegression()\n",
    "reg.fit(X,y)"
   ]
  },
  {
   "cell_type": "markdown",
   "id": "cbb6fc53",
   "metadata": {},
   "source": [
    "### 전체 데이터 시각화"
   ]
  },
  {
   "cell_type": "code",
   "execution_count": 33,
   "id": "bfc38e23",
   "metadata": {},
   "outputs": [
    {
     "data": {
      "image/png": "[encoded data removed]",
      "text/plain": [
       "<Figure size 432x288 with 1 Axes>"
      ]
     },
     "metadata": {
      "needs_background": "light"
     },
     "output_type": "display_data"
    }
   ],
   "source": [
    "plt.scatter(X,y,color='blue')\n",
    "plt.plot(X,reg.predict(X),color='green')\n",
    "plt.title('score by hours (genius)')\n",
    "plt.xlabel('hours')\n",
    "plt.ylabel('score')\n",
    "plt.show()"
   ]
  },
  {
   "cell_type": "markdown",
   "id": "eb88bcb4",
   "metadata": {},
   "source": [
    "## 3-2 다항 회귀"
   ]
  },
  {
   "cell_type": "code",
   "execution_count": 34,
   "id": "00f6f98e",
   "metadata": {},
   "outputs": [
    {
     "data": {
      "text/plain": [
       "array([[1.000000e+00, 2.000000e-01, 4.000000e-02, 8.000000e-03,\n",
       "        1.600000e-03],\n",
       "       [1.000000e+00, 5.000000e-01, 2.500000e-01, 1.250000e-01,\n",
       "        6.250000e-02],\n",
       "       [1.000000e+00, 8.000000e-01, 6.400000e-01, 5.120000e-01,\n",
       "        4.096000e-01],\n",
       "       [1.000000e+00, 9.000000e-01, 8.100000e-01, 7.290000e-01,\n",
       "        6.561000e-01],\n",
       "       [1.000000e+00, 1.200000e+00, 1.440000e+00, 1.728000e+00,\n",
       "        2.073600e+00],\n",
       "       [1.000000e+00, 2.400000e+00, 5.760000e+00, 1.382400e+01,\n",
       "        3.317760e+01],\n",
       "       [1.000000e+00, 2.500000e+00, 6.250000e+00, 1.562500e+01,\n",
       "        3.906250e+01],\n",
       "       [1.000000e+00, 2.600000e+00, 6.760000e+00, 1.757600e+01,\n",
       "        4.569760e+01],\n",
       "       [1.000000e+00, 2.900000e+00, 8.410000e+00, 2.438900e+01,\n",
       "        7.072810e+01],\n",
       "       [1.000000e+00, 3.100000e+00, 9.610000e+00, 2.979100e+01,\n",
       "        9.235210e+01],\n",
       "       [1.000000e+00, 3.200000e+00, 1.024000e+01, 3.276800e+01,\n",
       "        1.048576e+02],\n",
       "       [1.000000e+00, 3.300000e+00, 1.089000e+01, 3.593700e+01,\n",
       "        1.185921e+02],\n",
       "       [1.000000e+00, 3.700000e+00, 1.369000e+01, 5.065300e+01,\n",
       "        1.874161e+02],\n",
       "       [1.000000e+00, 3.900000e+00, 1.521000e+01, 5.931900e+01,\n",
       "        2.313441e+02],\n",
       "       [1.000000e+00, 4.000000e+00, 1.600000e+01, 6.400000e+01,\n",
       "        2.560000e+02],\n",
       "       [1.000000e+00, 4.100000e+00, 1.681000e+01, 6.892100e+01,\n",
       "        2.825761e+02],\n",
       "       [1.000000e+00, 4.200000e+00, 1.764000e+01, 7.408800e+01,\n",
       "        3.111696e+02],\n",
       "       [1.000000e+00, 4.400000e+00, 1.936000e+01, 8.518400e+01,\n",
       "        3.748096e+02],\n",
       "       [1.000000e+00, 4.700000e+00, 2.209000e+01, 1.038230e+02,\n",
       "        4.879681e+02],\n",
       "       [1.000000e+00, 4.800000e+00, 2.304000e+01, 1.105920e+02,\n",
       "        5.308416e+02]])"
      ]
     },
     "execution_count": 34,
     "metadata": {},
     "output_type": "execute_result"
    }
   ],
   "source": [
    "from sklearn.preprocessing import PolynomialFeatures\n",
    "poly_reg = PolynomialFeatures(degree=4) # 2차 다항식\n",
    "X_poly = poly_reg.fit_transform(X)\n",
    "X_poly\n",
    "\n",
    "## 아래에서 3개로 확장된것을 볼 수 있는데,\n",
    "## 각각 0승 1승 2승을 나타낸것임을 알 수 있다."
   ]
  },
  {
   "cell_type": "code",
   "execution_count": 35,
   "id": "e5ee63c7",
   "metadata": {},
   "outputs": [
    {
     "data": {
      "text/plain": [
       "LinearRegression()"
      ]
     },
     "execution_count": 35,
     "metadata": {},
     "output_type": "execute_result"
    }
   ],
   "source": [
    "\n",
    "lin_reg = LinearRegression()\n",
    "lin_reg.fit(X_poly,y)# 변환된 x,y로 모델 생성 및 학습"
   ]
  },
  {
   "cell_type": "markdown",
   "id": "ecc277ed",
   "metadata": {},
   "source": [
    "### 변환된 데이터 시각화"
   ]
  },
  {
   "cell_type": "code",
   "execution_count": 36,
   "id": "c869e4c2",
   "metadata": {},
   "outputs": [
    {
     "data": {
      "image/png": "[encoded data removed]",
      "text/plain": [
       "<Figure size 432x288 with 1 Axes>"
      ]
     },
     "metadata": {
      "needs_background": "light"
     },
     "output_type": "display_data"
    }
   ],
   "source": [
    "plt.scatter(X,y,color='blue')\n",
    "plt.plot(X,lin_reg.predict(poly_reg.fit_transform(X)),color='green')\n",
    "plt.title('score by hours (genius)')\n",
    "plt.xlabel('hours')\n",
    "plt.ylabel('score')\n",
    "plt.show()"
   ]
  },
  {
   "cell_type": "code",
   "execution_count": 37,
   "id": "85fe1301",
   "metadata": {},
   "outputs": [
    {
     "data": {
      "text/plain": [
       "array([0.2, 0.3, 0.4, 0.5, 0.6, 0.7, 0.8, 0.9, 1. , 1.1, 1.2, 1.3, 1.4,\n",
       "       1.5, 1.6, 1.7, 1.8, 1.9, 2. , 2.1, 2.2, 2.3, 2.4, 2.5, 2.6, 2.7,\n",
       "       2.8, 2.9, 3. , 3.1, 3.2, 3.3, 3.4, 3.5, 3.6, 3.7, 3.8, 3.9, 4. ,\n",
       "       4.1, 4.2, 4.3, 4.4, 4.5, 4.6, 4.7])"
      ]
     },
     "execution_count": 37,
     "metadata": {},
     "output_type": "execute_result"
    }
   ],
   "source": [
    "X_range=np.arange(min(X),max(X),0.1) # X의 최소 ~ 최대의 값을 0.1단위로 나눔\n",
    "X_range"
   ]
  },
  {
   "cell_type": "code",
   "execution_count": 38,
   "id": "356f5e68",
   "metadata": {},
   "outputs": [
    {
     "data": {
      "text/plain": [
       "array([[0.2],\n",
       "       [0.3],\n",
       "       [0.4],\n",
       "       [0.5],\n",
       "       [0.6],\n",
       "       [0.7],\n",
       "       [0.8],\n",
       "       [0.9],\n",
       "       [1. ],\n",
       "       [1.1],\n",
       "       [1.2],\n",
       "       [1.3],\n",
       "       [1.4],\n",
       "       [1.5],\n",
       "       [1.6],\n",
       "       [1.7],\n",
       "       [1.8],\n",
       "       [1.9],\n",
       "       [2. ],\n",
       "       [2.1],\n",
       "       [2.2],\n",
       "       [2.3],\n",
       "       [2.4],\n",
       "       [2.5],\n",
       "       [2.6],\n",
       "       [2.7],\n",
       "       [2.8],\n",
       "       [2.9],\n",
       "       [3. ],\n",
       "       [3.1],\n",
       "       [3.2],\n",
       "       [3.3],\n",
       "       [3.4],\n",
       "       [3.5],\n",
       "       [3.6],\n",
       "       [3.7],\n",
       "       [3.8],\n",
       "       [3.9],\n",
       "       [4. ],\n",
       "       [4.1],\n",
       "       [4.2],\n",
       "       [4.3],\n",
       "       [4.4],\n",
       "       [4.5],\n",
       "       [4.6],\n",
       "       [4.7]])"
      ]
     },
     "execution_count": 38,
     "metadata": {},
     "output_type": "execute_result"
    }
   ],
   "source": [
    "# 데이터의 형태를 기존 X와 같게 만들기\n",
    "X_range = X_range.reshape(-1,1) # 행의 개수는 자동(-1)으로, 열 개수는 1개로\n",
    "X_range"
   ]
  },
  {
   "cell_type": "markdown",
   "id": "d790a4e4",
   "metadata": {},
   "source": [
    "### 그래프 부드럽게 바꾸기"
   ]
  },
  {
   "cell_type": "code",
   "execution_count": 39,
   "id": "7c2f04a9",
   "metadata": {},
   "outputs": [
    {
     "data": {
      "image/png": "[encoded data removed]",
      "text/plain": [
       "<Figure size 432x288 with 1 Axes>"
      ]
     },
     "metadata": {
      "needs_background": "light"
     },
     "output_type": "display_data"
    }
   ],
   "source": [
    "plt.scatter(X,y,color='blue')\n",
    "plt.plot(X_range,lin_reg.predict(poly_reg.fit_transform(X_range)),color='green')\n",
    "plt.title('score by hours (genius)')\n",
    "plt.xlabel('hours')\n",
    "plt.ylabel('score')\n",
    "plt.show()"
   ]
  },
  {
   "cell_type": "markdown",
   "id": "69d68dcd",
   "metadata": {},
   "source": [
    "### 공부 시간에 따른 시험 성적 예측"
   ]
  },
  {
   "cell_type": "code",
   "execution_count": 40,
   "id": "80c966a5",
   "metadata": {},
   "outputs": [
    {
     "data": {
      "text/plain": [
       "array([19.85348988])"
      ]
     },
     "execution_count": 40,
     "metadata": {},
     "output_type": "execute_result"
    }
   ],
   "source": [
    "reg.predict([[2]]) # 2 시간 공부 했을 때 선형 회귀 모델의 예측"
   ]
  },
  {
   "cell_type": "code",
   "execution_count": 42,
   "id": "43afe08f",
   "metadata": {},
   "outputs": [
    {
     "data": {
      "text/plain": [
       "array([8.70559135])"
      ]
     },
     "execution_count": 42,
     "metadata": {},
     "output_type": "execute_result"
    }
   ],
   "source": [
    "### x값을 변환해서 넣어줘야함 (poly_reg.fit_transform())\n",
    "lin_reg.predict(poly_reg.fit_transform([[2]])) # 2 시간을 공부 했을 때 다항 회귀 모델의 예측"
   ]
  },
  {
   "cell_type": "code",
   "execution_count": 43,
   "id": "07cb2ad1",
   "metadata": {},
   "outputs": [
    {
     "data": {
      "text/plain": [
       "0.9782775579000046"
      ]
     },
     "execution_count": 43,
     "metadata": {},
     "output_type": "execute_result"
    }
   ],
   "source": [
    "lin_reg.score(X_poly,y)"
   ]
  },
  {
   "cell_type": "code",
   "execution_count": null,
   "id": "4c1e8ffc",
   "metadata": {},
   "outputs": [],
   "source": []
  }
 ],
 "metadata": {
  "kernelspec": {
   "display_name": "Python 3 (ipykernel)",
   "language": "python",
   "name": "python3"
  },
  "language_info": {
   "codemirror_mode": {
    "name": "ipython",
    "version": 3
   },
   "file_extension": ".py",
   "mimetype": "text/x-python",
   "name": "python",
   "nbconvert_exporter": "python",
   "pygments_lexer": "ipython3",
   "version": "3.9.12"
  }
 },
 "nbformat": 4,
 "nbformat_minor": 5
}
