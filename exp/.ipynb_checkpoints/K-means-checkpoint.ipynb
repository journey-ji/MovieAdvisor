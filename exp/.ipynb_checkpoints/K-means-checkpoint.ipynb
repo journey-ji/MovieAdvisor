{
 "cells": [
  {
   "cell_type": "markdown",
   "id": "712c7cc7",
   "metadata": {},
   "source": [
    "# K-평균 (K-means)\n",
    "\n",
    "* 비지도학습\n",
    "* 종속변수 없음\n"
   ]
  },
  {
   "cell_type": "code",
   "execution_count": 51,
   "id": "ac482889",
   "metadata": {},
   "outputs": [],
   "source": [
    "import numpy as np\n",
    "import matplotlib.pyplot as plt\n",
    "import pandas as pd"
   ]
  },
  {
   "cell_type": "code",
   "execution_count": 52,
   "id": "60e6cf52",
   "metadata": {},
   "outputs": [
    {
     "data": {
      "text/html": [
       "<div>\n",
       "<style scoped>\n",
       "    .dataframe tbody tr th:only-of-type {\n",
       "        vertical-align: middle;\n",
       "    }\n",
       "\n",
       "    .dataframe tbody tr th {\n",
       "        vertical-align: top;\n",
       "    }\n",
       "\n",
       "    .dataframe thead th {\n",
       "        text-align: right;\n",
       "    }\n",
       "</style>\n",
       "<table border=\"1\" class=\"dataframe\">\n",
       "  <thead>\n",
       "    <tr style=\"text-align: right;\">\n",
       "      <th></th>\n",
       "      <th>hour</th>\n",
       "      <th>score</th>\n",
       "    </tr>\n",
       "  </thead>\n",
       "  <tbody>\n",
       "    <tr>\n",
       "      <th>0</th>\n",
       "      <td>7.33</td>\n",
       "      <td>73</td>\n",
       "    </tr>\n",
       "    <tr>\n",
       "      <th>1</th>\n",
       "      <td>3.71</td>\n",
       "      <td>55</td>\n",
       "    </tr>\n",
       "    <tr>\n",
       "      <th>2</th>\n",
       "      <td>3.43</td>\n",
       "      <td>55</td>\n",
       "    </tr>\n",
       "    <tr>\n",
       "      <th>3</th>\n",
       "      <td>3.06</td>\n",
       "      <td>89</td>\n",
       "    </tr>\n",
       "    <tr>\n",
       "      <th>4</th>\n",
       "      <td>3.33</td>\n",
       "      <td>79</td>\n",
       "    </tr>\n",
       "  </tbody>\n",
       "</table>\n",
       "</div>"
      ],
      "text/plain": [
       "   hour  score\n",
       "0  7.33     73\n",
       "1  3.71     55\n",
       "2  3.43     55\n",
       "3  3.06     89\n",
       "4  3.33     79"
      ]
     },
     "execution_count": 52,
     "metadata": {},
     "output_type": "execute_result"
    }
   ],
   "source": [
    "dataset = pd.read_csv('./data/ScikitLearn/KMeansData.csv')\n",
    "dataset.head()"
   ]
  },
  {
   "cell_type": "code",
   "execution_count": 53,
   "id": "978255ef",
   "metadata": {},
   "outputs": [
    {
     "data": {
      "text/plain": [
       "array([[ 7.33, 73.  ],\n",
       "       [ 3.71, 55.  ],\n",
       "       [ 3.43, 55.  ],\n",
       "       [ 3.06, 89.  ],\n",
       "       [ 3.33, 79.  ]])"
      ]
     },
     "execution_count": 53,
     "metadata": {},
     "output_type": "execute_result"
    }
   ],
   "source": [
    "##X = dataset.iloc[:,:].values\n",
    "X = dataset.values\n",
    "#X = dataset.to_numpy()  # 공식 홈 권장방식\n",
    "X[:5]"
   ]
  },
  {
   "cell_type": "markdown",
   "id": "634879fd",
   "metadata": {},
   "source": [
    "### 데이터 시각화  - 전체 데이터 분포 확인"
   ]
  },
  {
   "cell_type": "code",
   "execution_count": 54,
   "id": "05093529",
   "metadata": {},
   "outputs": [
    {
     "data": {
      "image/png": "[encoded data removed]",
      "text/plain": [
       "<Figure size 432x288 with 1 Axes>"
      ]
     },
     "metadata": {
      "needs_background": "light"
     },
     "output_type": "display_data"
    }
   ],
   "source": [
    "plt.scatter(X[:,0],X[:,1]) # x축 = 시간, y축 = 점수\n",
    "plt.title('Score by hours')\n",
    "plt.xlabel('hours')\n",
    "plt.ylabel('score')\n",
    "plt.show()"
   ]
  },
  {
   "cell_type": "markdown",
   "id": "cb406c8a",
   "metadata": {},
   "source": [
    "### 데이터 시각화 - 축 범위 통일"
   ]
  },
  {
   "cell_type": "code",
   "execution_count": 55,
   "id": "dade86bd",
   "metadata": {},
   "outputs": [
    {
     "data": {
      "image/png": "[encoded data removed]",
      "text/plain": [
       "<Figure size 432x288 with 1 Axes>"
      ]
     },
     "metadata": {
      "needs_background": "light"
     },
     "output_type": "display_data"
    }
   ],
   "source": [
    "\n",
    "plt.scatter(X[:,0],X[:,1]) # x축 = 시간, y축 = 점수\n",
    "plt.title('Score by hours')\n",
    "plt.xlabel('hours')\n",
    "plt.xlim(0,100)\n",
    "plt.ylabel('score')\n",
    "plt.ylim(0,100)\n",
    "plt.show()\n"
   ]
  },
  {
   "cell_type": "markdown",
   "id": "2603baee",
   "metadata": {},
   "source": [
    "### 피쳐 스케일링 (Feature Scaling)"
   ]
  },
  {
   "cell_type": "code",
   "execution_count": 56,
   "id": "dae5f49b",
   "metadata": {},
   "outputs": [
    {
     "data": {
      "text/plain": [
       "array([[ 0.68729921,  0.73538376],\n",
       "       [-0.66687438,  0.04198891],\n",
       "       [-0.77161709,  0.04198891],\n",
       "       [-0.9100271 ,  1.35173473],\n",
       "       [-0.8090252 ,  0.96651537]])"
      ]
     },
     "execution_count": 56,
     "metadata": {},
     "output_type": "execute_result"
    }
   ],
   "source": [
    "### \n",
    "from sklearn.preprocessing import StandardScaler\n",
    "sc = StandardScaler()\n",
    "X = sc.fit_transform(X)\n",
    "X[:5]"
   ]
  },
  {
   "cell_type": "markdown",
   "id": "731dde6a",
   "metadata": {},
   "source": [
    "### 데이터 시각화 - 스케일링된 데이터"
   ]
  },
  {
   "cell_type": "code",
   "execution_count": 57,
   "id": "b3b3a2bb",
   "metadata": {},
   "outputs": [
    {
     "data": {
      "image/png": "[encoded data removed]",
      "text/plain": [
       "<Figure size 360x360 with 1 Axes>"
      ]
     },
     "metadata": {
      "needs_background": "light"
     },
     "output_type": "display_data"
    }
   ],
   "source": [
    "### 실거리를 시각화하기 위해 x,y 축의 scale을 통일해야함\n",
    "plt.figure(figsize=(5,5))\n",
    "plt.scatter(X[:,0],X[:,1]) # x축 = 시간, y축 = 점수\n",
    "plt.title('Score by hours')\n",
    "plt.xlabel('hours')\n",
    "plt.ylabel('score')\n",
    "plt.show()"
   ]
  },
  {
   "cell_type": "markdown",
   "id": "bc9da2c0",
   "metadata": {},
   "source": [
    "### 최적의 K 값 찾기 - 엘보우 방식 (Elbow Method)"
   ]
  },
  {
   "cell_type": "code",
   "execution_count": 58,
   "id": "fb7f3dad",
   "metadata": {},
   "outputs": [
    {
     "data": {
      "image/png": "[encoded data removed]",
      "text/plain": [
       "<Figure size 432x288 with 1 Axes>"
      ]
     },
     "metadata": {
      "needs_background": "light"
     },
     "output_type": "display_data"
    }
   ],
   "source": [
    "## 클러스터 개수당, 거리제곱합\n",
    "## 엘보우 지점을 찾아서 K값으로 선정\n",
    "from sklearn.cluster import KMeans\n",
    "inertia_list = []\n",
    "for i in range(1,11):\n",
    "    kmeans = KMeans(n_clusters=i,init='k-means++',random_state=0)\n",
    "    kmeans.fit(X)\n",
    "    inertia_list.append(kmeans.inertia_) # 각 지점으로부터 클러스터 중심까지의 거리 제곱합\n",
    "    \n",
    "plt.plot(range(1,11),inertia_list)\n",
    "plt.title(\"Elbow Method\")\n",
    "plt.xlabel('n_clusters')\n",
    "plt.ylabel('inertia')\n",
    "plt.show()"
   ]
  },
  {
   "cell_type": "markdown",
   "id": "e4ce12e4",
   "metadata": {},
   "source": [
    "### 최적의 K(4)값으로 KMeans 학습"
   ]
  },
  {
   "cell_type": "code",
   "execution_count": 59,
   "id": "2ea5717f",
   "metadata": {},
   "outputs": [
    {
     "data": {
      "text/plain": [
       "array([2, 3, 3, 0, 0, 1, 1, 0, 2, 0, 0, 3, 1, 3, 3, 0, 1, 2, 3, 0, 1, 0,\n",
       "       3, 1, 2, 2, 3, 3, 3, 3, 1, 1, 3, 0, 2, 2, 3, 0, 0, 0, 3, 1, 2, 3,\n",
       "       3, 2, 1, 0, 1, 1, 2, 0, 1, 1, 0, 0, 0, 0, 3, 1, 1, 2, 2, 2, 2, 1,\n",
       "       1, 0, 1, 2, 3, 2, 2, 2, 3, 3, 3, 3, 0, 2, 1, 2, 1, 1, 2, 0, 3, 1,\n",
       "       2, 3, 0, 1, 0, 2, 3, 2, 2, 0, 1, 3], dtype=int32)"
      ]
     },
     "execution_count": 59,
     "metadata": {},
     "output_type": "execute_result"
    }
   ],
   "source": [
    "K = 4 # 최적의 k값\n",
    "kmeans = KMeans(n_clusters=K,random_state=0)\n",
    "#kmeans.fit(X)\n",
    "y_kmeans = kmeans.fit_predict(X)\n",
    "y_kmeans\n",
    "\n",
    "## 총 4개의 클러스터로 구분되는것이 확인된다."
   ]
  },
  {
   "cell_type": "markdown",
   "id": "8c24188a",
   "metadata": {},
   "source": [
    "### 데이터 시각화(최적의 K)"
   ]
  },
  {
   "cell_type": "code",
   "execution_count": 60,
   "id": "beb44d75",
   "metadata": {},
   "outputs": [
    {
     "data": {
      "text/plain": [
       "array([[-0.57163957,  0.85415973],\n",
       "       [ 0.8837666 , -1.26929779],\n",
       "       [ 0.94107583,  0.93569782],\n",
       "       [-1.22698889, -0.46768593]])"
      ]
     },
     "execution_count": 60,
     "metadata": {},
     "output_type": "execute_result"
    }
   ],
   "source": [
    "centers = kmeans.cluster_centers_ \n",
    "centers"
   ]
  },
  {
   "cell_type": "code",
   "execution_count": 61,
   "id": "4b96b3c1",
   "metadata": {},
   "outputs": [
    {
     "data": {
      "image/png": "[encoded data removed]",
      "text/plain": [
       "<Figure size 432x288 with 1 Axes>"
      ]
     },
     "metadata": {
      "needs_background": "light"
     },
     "output_type": "display_data"
    }
   ],
   "source": [
    "for cluster in range(K):\n",
    "    plt.scatter(X[y_kmeans ==cluster,0],X[y_kmeans==cluster,1],s=100,edgecolor='black')\n",
    "    plt.scatter(centers[cluster,0],centers[cluster,1],s=300,edgecolor='black', color='yellow', marker='s')\n",
    "    plt.text(centers[cluster,0],centers[cluster,1],cluster,va='center',ha='center')\n",
    "    \n",
    "    \n",
    "plt.title('score by hours')\n",
    "plt.xlabel('hours')\n",
    "plt.ylabel('score')\n",
    "plt.show()"
   ]
  },
  {
   "cell_type": "markdown",
   "id": "8a6ee0f0",
   "metadata": {},
   "source": [
    "### 데이터 시각화 - 스케일링 원상복구"
   ]
  },
  {
   "cell_type": "code",
   "execution_count": 62,
   "id": "a2446646",
   "metadata": {},
   "outputs": [
    {
     "data": {
      "text/plain": [
       "array([[ 7.33, 73.  ],\n",
       "       [ 3.71, 55.  ],\n",
       "       [ 3.43, 55.  ],\n",
       "       [ 3.06, 89.  ],\n",
       "       [ 3.33, 79.  ]])"
      ]
     },
     "execution_count": 62,
     "metadata": {},
     "output_type": "execute_result"
    }
   ],
   "source": [
    "X_org = sc.inverse_transform(X) # 다시 원상복구하는 작업\n",
    "X_org[:5]"
   ]
  },
  {
   "cell_type": "code",
   "execution_count": 63,
   "id": "a1d6ff1f",
   "metadata": {},
   "outputs": [
    {
     "data": {
      "text/plain": [
       "array([[ 3.96458333, 76.08333333],\n",
       "       [ 7.8552    , 20.96      ],\n",
       "       [ 8.0084    , 78.2       ],\n",
       "       [ 2.21269231, 41.76923077]])"
      ]
     },
     "execution_count": 63,
     "metadata": {},
     "output_type": "execute_result"
    }
   ],
   "source": [
    "centers_org = sc.inverse_transform(centers)\n",
    "centers_org"
   ]
  },
  {
   "cell_type": "code",
   "execution_count": 64,
   "id": "7d17d96a",
   "metadata": {},
   "outputs": [
    {
     "data": {
      "image/png": "[encoded data removed]",
      "text/plain": [
       "<Figure size 432x288 with 1 Axes>"
      ]
     },
     "metadata": {
      "needs_background": "light"
     },
     "output_type": "display_data"
    }
   ],
   "source": [
    "for cluster in range(K):\n",
    "    plt.scatter(X_org[y_kmeans ==cluster,0],X_org[y_kmeans==cluster,1],s=100,edgecolor='black')\n",
    "    plt.scatter(centers_org[cluster,0],centers_org[cluster,1],s=300,edgecolor='black', color='yellow', marker='s')\n",
    "    plt.text(centers_org[cluster,0],centers_org[cluster,1],cluster,va='center',ha='center')\n",
    "    \n",
    "    \n",
    "plt.title('score by hours')\n",
    "plt.xlabel('hours')\n",
    "plt.ylabel('score')\n",
    "plt.show()"
   ]
  },
  {
   "cell_type": "markdown",
   "id": "42e76585",
   "metadata": {},
   "source": [
    "#### 해당 시각화 자료를 분석?\n",
    "0번 그룹 : 공부 효율 좋은 그룹 <br>\n",
    "1번 그룹 : 공부 효율 안좋은 그룹 <br>\n",
    "2번 그룹 : 한 만큼 잘 나오는 그룹 <br>\n",
    "3번 그룹 : 안한 만큼 안나오는 그룹 <br>"
   ]
  },
  {
   "cell_type": "code",
   "execution_count": null,
   "id": "3f1adfa9",
   "metadata": {},
   "outputs": [],
   "source": []
  }
 ],
 "metadata": {
  "kernelspec": {
   "display_name": "Python 3 (ipykernel)",
   "language": "python",
   "name": "python3"
  },
  "language_info": {
   "codemirror_mode": {
    "name": "ipython",
    "version": 3
   },
   "file_extension": ".py",
   "mimetype": "text/x-python",
   "name": "python",
   "nbconvert_exporter": "python",
   "pygments_lexer": "ipython3",
   "version": "3.9.12"
  }
 },
 "nbformat": 4,
 "nbformat_minor": 5
}
