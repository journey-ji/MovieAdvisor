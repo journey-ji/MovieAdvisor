{
 "cells": [
  {
   "cell_type": "markdown",
   "id": "63e82bec",
   "metadata": {},
   "source": [
    "# 로지스틱 회귀 Logistic Regression\n",
    "\n",
    "\n",
    "로지스틱 회귀 ?<br>\n",
    "주어진 데이터를 정해진 범주에 따라 분류<br>\n",
    "예측 결과가 <strong>숫자가 아닐 때</strong> 사용\n",
    "<br>\n",
    "<br>\n",
    "<br>\n",
    "\n",
    "#### 정의\n",
    "선형 회귀 방식을 분류에 적용한 알고리즘.<br>\n",
    "데이터가 어떤 범주에 속할 확률을 0~1 사이의 값으로<br>\n",
    "더 높은 범주에 속하는 쪽으로 분류<br>\n",
    " *범주? : True/False, Yes/No, 합격/불합격\n",
    "\n",
    "#### 시그모이드 함수\n",
    "로지스틱회귀를 구현하기 위해 사용하는 함수식\n",
    "\n"
   ]
  },
  {
   "cell_type": "markdown",
   "id": "a2504853",
   "metadata": {},
   "source": [
    "### 공부 시간에 따른 자격증 합격 가능성\n"
   ]
  },
  {
   "cell_type": "code",
   "execution_count": 18,
   "id": "2d157f2c",
   "metadata": {},
   "outputs": [],
   "source": [
    "import numpy as np\n",
    "import matplotlib.pyplot as plt\n",
    "import pandas as pd\n"
   ]
  },
  {
   "cell_type": "code",
   "execution_count": 19,
   "id": "4db98476",
   "metadata": {},
   "outputs": [],
   "source": [
    "dataset = pd.read_csv('./data/ScikitLearn/LogisticRegressionData.csv')\n",
    "X = dataset.iloc[:,:-1].values\n",
    "y = dataset.iloc[:,-1].values"
   ]
  },
  {
   "cell_type": "markdown",
   "id": "454b50de",
   "metadata": {},
   "source": [
    "### 데이터 분리"
   ]
  },
  {
   "cell_type": "code",
   "execution_count": 20,
   "id": "0e77b073",
   "metadata": {},
   "outputs": [],
   "source": [
    "from sklearn.model_selection import train_test_split\n",
    "X_train,X_test,y_train,y_test = train_test_split(X,y,test_size=0.2, random_state=0)"
   ]
  },
  {
   "cell_type": "markdown",
   "id": "21afa9f0",
   "metadata": {},
   "source": [
    "### 로지스틱 회귀 학습"
   ]
  },
  {
   "cell_type": "code",
   "execution_count": 21,
   "id": "ae192fd1",
   "metadata": {},
   "outputs": [
    {
     "data": {
      "text/plain": [
       "LogisticRegression()"
      ]
     },
     "execution_count": 21,
     "metadata": {},
     "output_type": "execute_result"
    }
   ],
   "source": [
    "from sklearn.linear_model import LogisticRegression\n",
    "classifier = LogisticRegression()\n",
    "classifier.fit(X_train,y_train)"
   ]
  },
  {
   "cell_type": "markdown",
   "id": "e2c80a7d",
   "metadata": {},
   "source": [
    "### 6시간 공부했을 때 예측 (합격 or 불합격)"
   ]
  },
  {
   "cell_type": "code",
   "execution_count": 22,
   "id": "95c6861d",
   "metadata": {},
   "outputs": [
    {
     "data": {
      "text/plain": [
       "array([1])"
      ]
     },
     "execution_count": 22,
     "metadata": {},
     "output_type": "execute_result"
    }
   ],
   "source": [
    "classifier.predict([[6]])\n",
    "# 결과 1 = 합격으로 예측\n"
   ]
  },
  {
   "cell_type": "code",
   "execution_count": 24,
   "id": "944efe93",
   "metadata": {},
   "outputs": [
    {
     "data": {
      "text/plain": [
       "array([0])"
      ]
     },
     "execution_count": 24,
     "metadata": {},
     "output_type": "execute_result"
    }
   ],
   "source": [
    "classifier.predict([[4]])\n",
    "# 결과 0 = 불합격으로 예측"
   ]
  },
  {
   "cell_type": "markdown",
   "id": "315f5056",
   "metadata": {},
   "source": [
    "### 6시간 공부했을 때 합격확률 예측"
   ]
  },
  {
   "cell_type": "code",
   "execution_count": 26,
   "id": "549806ff",
   "metadata": {},
   "outputs": [
    {
     "data": {
      "text/plain": [
       "array([[0.14150735, 0.85849265]])"
      ]
     },
     "execution_count": 26,
     "metadata": {},
     "output_type": "execute_result"
    }
   ],
   "source": [
    "classifier.predict_proba([[6]])\n",
    "# 0번 인덱스 = 불합격 확률\n",
    "# 1번 인덱스 = 합격 확률"
   ]
  },
  {
   "cell_type": "markdown",
   "id": "e92c9fe3",
   "metadata": {},
   "source": [
    "### 분류 결과 예측 (테스터 세트에 대한)"
   ]
  },
  {
   "cell_type": "code",
   "execution_count": 27,
   "id": "30b7957d",
   "metadata": {},
   "outputs": [
    {
     "data": {
      "text/plain": [
       "array([1, 0, 1, 1])"
      ]
     },
     "execution_count": 27,
     "metadata": {},
     "output_type": "execute_result"
    }
   ],
   "source": [
    "y_pred = classifier.predict(X_test)\n",
    "y_pred"
   ]
  },
  {
   "cell_type": "code",
   "execution_count": 28,
   "id": "7eecfe5b",
   "metadata": {},
   "outputs": [
    {
     "data": {
      "text/plain": [
       "array([1, 0, 1, 0])"
      ]
     },
     "execution_count": 28,
     "metadata": {},
     "output_type": "execute_result"
    }
   ],
   "source": [
    "y_test"
   ]
  },
  {
   "cell_type": "code",
   "execution_count": 29,
   "id": "9476da93",
   "metadata": {},
   "outputs": [
    {
     "data": {
      "text/plain": [
       "array([[ 8.6],\n",
       "       [ 1.2],\n",
       "       [10. ],\n",
       "       [ 4.5]])"
      ]
     },
     "execution_count": 29,
     "metadata": {},
     "output_type": "execute_result"
    }
   ],
   "source": [
    "X_test"
   ]
  },
  {
   "cell_type": "code",
   "execution_count": 30,
   "id": "4bc20def",
   "metadata": {},
   "outputs": [
    {
     "data": {
      "text/plain": [
       "0.75"
      ]
     },
     "execution_count": 30,
     "metadata": {},
     "output_type": "execute_result"
    }
   ],
   "source": [
    "classifier.score(X_test,y_test)\n"
   ]
  },
  {
   "cell_type": "markdown",
   "id": "7440d8de",
   "metadata": {},
   "source": [
    "### 훈련세트에 대한 데이터 시각화 "
   ]
  },
  {
   "cell_type": "code",
   "execution_count": 31,
   "id": "60a2187b",
   "metadata": {},
   "outputs": [
    {
     "data": {
      "text/plain": [
       "array([0.5, 0.6, 0.7, 0.8, 0.9, 1. , 1.1, 1.2, 1.3, 1.4, 1.5, 1.6, 1.7,\n",
       "       1.8, 1.9, 2. , 2.1, 2.2, 2.3, 2.4, 2.5, 2.6, 2.7, 2.8, 2.9, 3. ,\n",
       "       3.1, 3.2, 3.3, 3.4, 3.5, 3.6, 3.7, 3.8, 3.9, 4. , 4.1, 4.2, 4.3,\n",
       "       4.4, 4.5, 4.6, 4.7, 4.8, 4.9, 5. , 5.1, 5.2, 5.3, 5.4, 5.5, 5.6,\n",
       "       5.7, 5.8, 5.9, 6. , 6.1, 6.2, 6.3, 6.4, 6.5, 6.6, 6.7, 6.8, 6.9,\n",
       "       7. , 7.1, 7.2, 7.3, 7.4, 7.5, 7.6, 7.7, 7.8, 7.9, 8. , 8.1, 8.2,\n",
       "       8.3, 8.4, 8.5, 8.6, 8.7, 8.8, 8.9, 9. , 9.1, 9.2, 9.3, 9.4, 9.5,\n",
       "       9.6, 9.7, 9.8, 9.9])"
      ]
     },
     "execution_count": 31,
     "metadata": {},
     "output_type": "execute_result"
    }
   ],
   "source": [
    "# 범위 세분화\n",
    "X_range = np.arange(min(X),max(X),0.1)\n",
    "X_range"
   ]
  },
  {
   "cell_type": "code",
   "execution_count": 32,
   "id": "82448a2b",
   "metadata": {},
   "outputs": [
    {
     "data": {
      "text/plain": [
       "array([[0.01035705, 0.01161247, 0.01301807, 0.0145913 , 0.01635149,\n",
       "        0.01832008, 0.02052073, 0.02297953, 0.02572521, 0.02878929,\n",
       "        0.03220626, 0.03601375, 0.04025264, 0.04496719, 0.05020505,\n",
       "        0.05601722, 0.06245802, 0.06958479, 0.07745757, 0.08613861,\n",
       "        0.09569165, 0.10618106, 0.11767067, 0.13022241, 0.14389468,\n",
       "        0.15874043, 0.17480509, 0.19212422, 0.2107211 , 0.23060425,\n",
       "        0.25176509, 0.27417574, 0.29778732, 0.32252874, 0.34830616,\n",
       "        0.3750034 , 0.40248315, 0.43058927, 0.45914989, 0.48798142,\n",
       "        0.51689314, 0.54569221, 0.57418876, 0.60220088, 0.6295591 ,\n",
       "        0.65611024, 0.68172044, 0.70627722, 0.72969059, 0.75189324,\n",
       "        0.77283994, 0.79250621, 0.81088652, 0.82799203, 0.84384828,\n",
       "        0.85849265, 0.871972  , 0.88434036, 0.89565683, 0.90598377,\n",
       "        0.91538521, 0.92392546, 0.93166808, 0.93867499, 0.9450058 ,\n",
       "        0.95071738, 0.95586346, 0.96049453, 0.96465764, 0.96839647,\n",
       "        0.97175136, 0.97475939, 0.97745455, 0.97986786, 0.9820276 ,\n",
       "        0.98395944, 0.98568665, 0.9872303 , 0.98860939, 0.98984107,\n",
       "        0.9909408 , 0.99192244, 0.99279849, 0.99358014, 0.99427745,\n",
       "        0.9948994 , 0.99545406, 0.99594865, 0.99638963, 0.99678276,\n",
       "        0.99713321, 0.99744558, 0.997724  , 0.99797213, 0.99819325]])"
      ]
     },
     "execution_count": 32,
     "metadata": {},
     "output_type": "execute_result"
    }
   ],
   "source": [
    "# x가 변함에 따른 y값을 p에 저장\n",
    "p = 1 / (1+np.exp(-(classifier.coef_ * X_range + classifier.intercept_)))\n",
    "p"
   ]
  },
  {
   "cell_type": "code",
   "execution_count": 34,
   "id": "08aa2ce0",
   "metadata": {},
   "outputs": [
    {
     "data": {
      "text/plain": [
       "(1, 95)"
      ]
     },
     "execution_count": 34,
     "metadata": {},
     "output_type": "execute_result"
    }
   ],
   "source": [
    "p.shape\n",
    "#y는 현재 2차원 배열로 표현됨"
   ]
  },
  {
   "cell_type": "code",
   "execution_count": 35,
   "id": "bd6fab1b",
   "metadata": {},
   "outputs": [
    {
     "data": {
      "text/plain": [
       "(95,)"
      ]
     },
     "execution_count": 35,
     "metadata": {},
     "output_type": "execute_result"
    }
   ],
   "source": [
    "X_range.shape\n",
    "# x는 현재 1차원 배열임"
   ]
  },
  {
   "cell_type": "code",
   "execution_count": 36,
   "id": "56c90850",
   "metadata": {},
   "outputs": [
    {
     "data": {
      "text/plain": [
       "(95,)"
      ]
     },
     "execution_count": 36,
     "metadata": {},
     "output_type": "execute_result"
    }
   ],
   "source": [
    "# 위 x와 y의 형태를 맞춰주어야 함\n",
    "p = p.reshape(-1)\n",
    "p.shape\n"
   ]
  },
  {
   "cell_type": "code",
   "execution_count": 39,
   "id": "40c29d22",
   "metadata": {},
   "outputs": [
    {
     "data": {
      "image/png": "[encoded data removed]",
      "text/plain": [
       "<Figure size 432x288 with 1 Axes>"
      ]
     },
     "metadata": {
      "needs_background": "light"
     },
     "output_type": "display_data"
    }
   ],
   "source": [
    "plt.scatter(X_train,y_train,color='blue')\n",
    "plt.plot(X_range,p,color='green')\n",
    "#np.full() X_range 개수만큼 0.5로 가득찬 배열을 만듬\n",
    "plt.plot(X_range,np.full(len(X_range),0.5),color='red')\n",
    "plt.title('Probability by hours')\n",
    "plt.xlabel('hours')\n",
    "plt.ylabel('P')\n",
    "plt.show()"
   ]
  },
  {
   "cell_type": "markdown",
   "id": "2d381259",
   "metadata": {},
   "source": [
    "### 테스트세트에 대한 데이터 시각화"
   ]
  },
  {
   "cell_type": "code",
   "execution_count": 40,
   "id": "8a184519",
   "metadata": {},
   "outputs": [
    {
     "data": {
      "image/png": "[encoded data removed]",
      "text/plain": [
       "<Figure size 432x288 with 1 Axes>"
      ]
     },
     "metadata": {
      "needs_background": "light"
     },
     "output_type": "display_data"
    }
   ],
   "source": [
    "plt.scatter(X_test,y_test,color='blue')\n",
    "plt.plot(X_range,p,color='green')\n",
    "#np.full() X_range 개수만큼 0.5로 가득찬 배열을 만듬\n",
    "plt.plot(X_range,np.full(len(X_range),0.5),color='red')\n",
    "plt.title('Probability by hours(test)')\n",
    "plt.xlabel('hours')\n",
    "plt.ylabel('P')\n",
    "plt.show()"
   ]
  },
  {
   "cell_type": "code",
   "execution_count": 41,
   "id": "c035a9a7",
   "metadata": {},
   "outputs": [
    {
     "data": {
      "text/plain": [
       "array([[0.48310686, 0.51689314]])"
      ]
     },
     "execution_count": 41,
     "metadata": {},
     "output_type": "execute_result"
    }
   ],
   "source": [
    "classifier.predict_proba([[4.5]])\n",
    "# 51% 확률로 합격을 예측함"
   ]
  },
  {
   "cell_type": "markdown",
   "id": "35108260",
   "metadata": {},
   "source": [
    "### 혼동행렬(Confusion Matrix)"
   ]
  },
  {
   "cell_type": "code",
   "execution_count": 42,
   "id": "3b03238c",
   "metadata": {},
   "outputs": [
    {
     "data": {
      "text/plain": [
       "array([[1, 1],\n",
       "       [0, 2]])"
      ]
     },
     "execution_count": 42,
     "metadata": {},
     "output_type": "execute_result"
    }
   ],
   "source": [
    "from sklearn.metrics import confusion_matrix\n",
    "# 실제값과 예측값을 인자로 줌\n",
    "cm = confusion_matrix(y_test,y_pred)\n",
    "\n",
    "cm\n",
    "# 불합격 예측 -> 실제 불합격  # 합격을 예측 -> 실제 불합격\n",
    "# 불합격 예측 -> 실제 합격    # 합격을 예측 -> 실제 합격\n",
    "## True Negative     False Positive\n",
    "## False Negative    True Positive\n",
    "\n"
   ]
  },
  {
   "cell_type": "code",
   "execution_count": null,
   "id": "a03195ef",
   "metadata": {},
   "outputs": [],
   "source": []
  }
 ],
 "metadata": {
  "kernelspec": {
   "display_name": "Python 3 (ipykernel)",
   "language": "python",
   "name": "python3"
  },
  "language_info": {
   "codemirror_mode": {
    "name": "ipython",
    "version": 3
   },
   "file_extension": ".py",
   "mimetype": "text/x-python",
   "name": "python",
   "nbconvert_exporter": "python",
   "pygments_lexer": "ipython3",
   "version": "3.9.12"
  }
 },
 "nbformat": 4,
 "nbformat_minor": 5
}
