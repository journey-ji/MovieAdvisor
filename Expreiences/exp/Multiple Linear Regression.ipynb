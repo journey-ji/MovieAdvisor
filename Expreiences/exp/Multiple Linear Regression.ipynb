{
 "cells": [
  {
   "cell_type": "markdown",
   "id": "995d7bc6",
   "metadata": {},
   "source": [
    "# 다중 선형 회귀 Multiple Linear Regression\n",
    "\n",
    "\n",
    "여러개의 독립변수를 가지는 예측모델을 만들 때, 사용\n",
    "이번에는 공부시간, 결석횟수, 공부장소 세가지 독립변수를 이용하여 종속변수y를 예측하는 모델을 구상한다.\n"
   ]
  },
  {
   "cell_type": "markdown",
   "id": "505571c3",
   "metadata": {},
   "source": [
    "## 원-핫 인코딩\n",
    "\n",
    "공부장소처럼, 숫자로 표현하기 힘든 변수의 경우 \n",
    "더미 컬럼을 생성하여 1과 0으로만 표현하는 방법 \n",
    "1 = 내가 표현하고 싶은 값\n",
    "0 = 나머지\n"
   ]
  },
  {
   "cell_type": "markdown",
   "id": "f4a44717",
   "metadata": {},
   "source": [
    "## 다중공선성\n",
    "\n",
    "독립 변수들 간에 서로 강한 상관관계를 가지면서 회귀계수 추정의 오류가 나타나는 문제\n",
    "\n",
    "\n",
    "이를 해결하기 위해서, dummy column 을 n-1개만 사용한다."
   ]
  },
  {
   "cell_type": "markdown",
   "id": "d5d4f92a",
   "metadata": {},
   "source": [
    "## 원-핫 인코딩 실습"
   ]
  },
  {
   "cell_type": "code",
   "execution_count": 1,
   "id": "b75ea741",
   "metadata": {},
   "outputs": [],
   "source": [
    "import pandas as pd"
   ]
  },
  {
   "cell_type": "code",
   "execution_count": 4,
   "id": "6d03dd3a",
   "metadata": {},
   "outputs": [],
   "source": [
    "dataset = pd.read_csv('./data/ScikitLearn/MultipleLinearRegressionData.csv')\n",
    "X = dataset.iloc[:,:-1].values\n",
    "y = dataset.iloc[:,-1].values"
   ]
  },
  {
   "cell_type": "code",
   "execution_count": 7,
   "id": "9d4de9f8",
   "metadata": {},
   "outputs": [
    {
     "data": {
      "text/plain": [
       "array([[0.5, 3, 'Home'],\n",
       "       [1.2, 4, 'Library'],\n",
       "       [1.8, 2, 'Cafe'],\n",
       "       [2.4, 0, 'Cafe'],\n",
       "       [2.6, 2, 'Home'],\n",
       "       [3.2, 0, 'Home'],\n",
       "       [3.9, 0, 'Library'],\n",
       "       [4.4, 0, 'Library'],\n",
       "       [4.5, 5, 'Home'],\n",
       "       [5.0, 1, 'Cafe'],\n",
       "       [5.3, 2, 'Cafe'],\n",
       "       [5.8, 0, 'Cafe'],\n",
       "       [6.0, 3, 'Library'],\n",
       "       [6.1, 1, 'Cafe'],\n",
       "       [6.2, 1, 'Library'],\n",
       "       [6.9, 4, 'Home'],\n",
       "       [7.2, 2, 'Cafe'],\n",
       "       [8.4, 1, 'Home'],\n",
       "       [8.6, 1, 'Library'],\n",
       "       [10.0, 0, 'Library']], dtype=object)"
      ]
     },
     "execution_count": 7,
     "metadata": {},
     "output_type": "execute_result"
    }
   ],
   "source": [
    "X"
   ]
  },
  {
   "cell_type": "code",
   "execution_count": 13,
   "id": "02dbaa79",
   "metadata": {},
   "outputs": [
    {
     "data": {
      "text/plain": [
       "array([[1.0, 0.0, 0.5, 3],\n",
       "       [0.0, 1.0, 1.2, 4],\n",
       "       [0.0, 0.0, 1.8, 2],\n",
       "       [0.0, 0.0, 2.4, 0],\n",
       "       [1.0, 0.0, 2.6, 2],\n",
       "       [1.0, 0.0, 3.2, 0],\n",
       "       [0.0, 1.0, 3.9, 0],\n",
       "       [0.0, 1.0, 4.4, 0],\n",
       "       [1.0, 0.0, 4.5, 5],\n",
       "       [0.0, 0.0, 5.0, 1],\n",
       "       [0.0, 0.0, 5.3, 2],\n",
       "       [0.0, 0.0, 5.8, 0],\n",
       "       [0.0, 1.0, 6.0, 3],\n",
       "       [0.0, 0.0, 6.1, 1],\n",
       "       [0.0, 1.0, 6.2, 1],\n",
       "       [1.0, 0.0, 6.9, 4],\n",
       "       [0.0, 0.0, 7.2, 2],\n",
       "       [1.0, 0.0, 8.4, 1],\n",
       "       [0.0, 1.0, 8.6, 1],\n",
       "       [0.0, 1.0, 10.0, 0]], dtype=object)"
      ]
     },
     "execution_count": 13,
     "metadata": {},
     "output_type": "execute_result"
    }
   ],
   "source": [
    "from sklearn.compose import ColumnTransformer\n",
    "from sklearn.preprocessing import OneHotEncoder\n",
    "### transformers = 전달값\n",
    "### 첫번째 인자 = 어떤 방식 ? encoder\n",
    "### 두번째 인자 = 인코더를 수행할 클래스 객체\n",
    "### OneHotEncoder\n",
    "### drop인자 = 빼고 처리할것,first 를 넣어줘서 첫번째건 빼고 처리함. \n",
    "##### beacause 다중공산성 문제 해결을 위함\n",
    "### 2번째 index(장소)에 대해서 OneHotEncoder 수행\n",
    "### remainder = 'passthrough' 적용하지 않는 나머지 데이터는 그대로 둔다.\n",
    "\n",
    "ct = ColumnTransformer(transformers=[('encoder',OneHotEncoder(drop='first'),[2])],remainder='passthrough')\n",
    "X = ct.fit_transform(X)\n",
    "X"
   ]
  },
  {
   "cell_type": "markdown",
   "id": "c353fa0b",
   "metadata": {},
   "source": [
    "위를 보면 앞쪽에 두 개의 컬럼이 생성됨을 볼 수 있다.\n",
    "1 , 0 = Home\n",
    "0 , 1 = Library\n",
    "0 , 0 = cafe 가 된 것을 확인 가능하다.\n",
    "\n",
    "\n",
    "위와 같은 처리를 통해 범주형 데이터의 처리가 가능하다"
   ]
  },
  {
   "cell_type": "markdown",
   "id": "13ba0f2c",
   "metadata": {},
   "source": [
    "### 데이터 세트 분리"
   ]
  },
  {
   "cell_type": "code",
   "execution_count": 16,
   "id": "052b7382",
   "metadata": {},
   "outputs": [],
   "source": [
    "# 데이터 세트 분리를 위환 모듈\n",
    "from sklearn.model_selection import train_test_split\n",
    "\n",
    "X_train,X_test,y_train,y_test = train_test_split(X,y,test_size=0.2,random_state=0)\n"
   ]
  },
  {
   "cell_type": "markdown",
   "id": "ee9fb381",
   "metadata": {},
   "source": [
    "## 학습 (다중 선형 회귀)"
   ]
  },
  {
   "cell_type": "code",
   "execution_count": 19,
   "id": "7da6c1d7",
   "metadata": {},
   "outputs": [
    {
     "data": {
      "text/plain": [
       "LinearRegression()"
      ]
     },
     "execution_count": 19,
     "metadata": {},
     "output_type": "execute_result"
    }
   ],
   "source": [
    "from sklearn.linear_model import LinearRegression\n",
    "reg = LinearRegression()\n",
    "reg.fit(X_train,y_train)"
   ]
  },
  {
   "cell_type": "markdown",
   "id": "b9d9808f",
   "metadata": {},
   "source": [
    "### 예측 값과 실제 값 비교 (테스트 세트)"
   ]
  },
  {
   "cell_type": "code",
   "execution_count": 20,
   "id": "2aba271b",
   "metadata": {},
   "outputs": [
    {
     "data": {
      "text/plain": [
       "array([ 92.15457859,  10.23753043, 108.36245302,  38.14675204])"
      ]
     },
     "execution_count": 20,
     "metadata": {},
     "output_type": "execute_result"
    }
   ],
   "source": [
    "y_pred = reg.predict(X_test)\n",
    "y_pred\n"
   ]
  },
  {
   "cell_type": "code",
   "execution_count": 21,
   "id": "876b16cd",
   "metadata": {},
   "outputs": [
    {
     "data": {
      "text/plain": [
       "array([ 90,   8, 100,  38])"
      ]
     },
     "execution_count": 21,
     "metadata": {},
     "output_type": "execute_result"
    }
   ],
   "source": [
    "y_test"
   ]
  },
  {
   "cell_type": "code",
   "execution_count": 22,
   "id": "66835d06",
   "metadata": {},
   "outputs": [
    {
     "data": {
      "text/plain": [
       "array([-5.82712824, -1.04450647, 10.40419528, -1.64200104])"
      ]
     },
     "execution_count": 22,
     "metadata": {},
     "output_type": "execute_result"
    }
   ],
   "source": [
    "reg.coef_"
   ]
  },
  {
   "cell_type": "markdown",
   "id": "c9551193",
   "metadata": {},
   "source": [
    "위 결과값을 보면\n",
    "[집,도서관,공부시간,결석회수]임을 알 수 있다.<br>\n",
    "카페는 따로 안나오지만 0을 기본값으로 가진다고 보면 된다.<br>\n",
    "집 < 도서관 < 카페 순으로 공부 효율이 높고<br>\n",
    "공부시간이 1시간 증가할 때마다 점수는 약 10점씩 오르고,<br>\n",
    "결석 1회당 약 -1.6점씩 점수에 영향을 준다고 해석 가능하다.<br>"
   ]
  },
  {
   "cell_type": "code",
   "execution_count": 23,
   "id": "3a8a7ea6",
   "metadata": {},
   "outputs": [
    {
     "data": {
      "text/plain": [
       "5.365006706544733"
      ]
     },
     "execution_count": 23,
     "metadata": {},
     "output_type": "execute_result"
    }
   ],
   "source": [
    "reg.intercept_"
   ]
  },
  {
   "cell_type": "markdown",
   "id": "8bdb5bb6",
   "metadata": {},
   "source": [
    "### 모델 평가\n",
    "\n",
    "\n",
    "#### 기준,\n",
    "testset을 평가한 점수보다 trainset을 평가한 점수가 살짝 작게 나오면 좋은 모델이다."
   ]
  },
  {
   "cell_type": "code",
   "execution_count": 24,
   "id": "1a3d377d",
   "metadata": {},
   "outputs": [
    {
     "data": {
      "text/plain": [
       "0.9623352565265528"
      ]
     },
     "execution_count": 24,
     "metadata": {},
     "output_type": "execute_result"
    }
   ],
   "source": [
    "reg.score(X_train,y_train)"
   ]
  },
  {
   "cell_type": "code",
   "execution_count": 25,
   "id": "79762716",
   "metadata": {},
   "outputs": [
    {
     "data": {
      "text/plain": [
       "0.9859956178877445"
      ]
     },
     "execution_count": 25,
     "metadata": {},
     "output_type": "execute_result"
    }
   ],
   "source": [
    "reg.score(X_test,y_test)"
   ]
  },
  {
   "cell_type": "markdown",
   "id": "872ad7d9",
   "metadata": {},
   "source": [
    "### 다양한 평가 지표(회귀 모델)\n",
    "\n",
    "MAE(Mean Absolute Error) : |실제값 - 예측값|<br>\n",
    "MSE(Mean Squared Error) : (실제값 - 예측값)^2<br>\n",
    "R2 : 결정 계수<br>\n",
    "<br>\n",
    "R2 는 1에 가까울수록 좋고 나머지는 0에 가까울수록 좋다<br>"
   ]
  },
  {
   "cell_type": "code",
   "execution_count": 27,
   "id": "d81e78ac",
   "metadata": {},
   "outputs": [
    {
     "data": {
      "text/plain": [
       "3.225328518828811"
      ]
     },
     "execution_count": 27,
     "metadata": {},
     "output_type": "execute_result"
    }
   ],
   "source": [
    "from sklearn.metrics import mean_absolute_error\n",
    "mean_absolute_error(y_test,y_pred) # 실제값과 예측값의 mae\n"
   ]
  },
  {
   "cell_type": "code",
   "execution_count": 30,
   "id": "dedd4e02",
   "metadata": {},
   "outputs": [
    {
     "data": {
      "text/plain": [
       "19.90022698151514"
      ]
     },
     "execution_count": 30,
     "metadata": {},
     "output_type": "execute_result"
    }
   ],
   "source": [
    "from sklearn.metrics import mean_squared_error\n",
    "mean_squared_error(y_test,y_pred) #MSE"
   ]
  },
  {
   "cell_type": "code",
   "execution_count": 31,
   "id": "3976bd64",
   "metadata": {},
   "outputs": [
    {
     "data": {
      "text/plain": [
       "4.460967045553591"
      ]
     },
     "execution_count": 31,
     "metadata": {},
     "output_type": "execute_result"
    }
   ],
   "source": [
    "from sklearn.metrics import mean_squared_error\n",
    "mean_squared_error(y_test,y_pred,squared=False) #RMSE"
   ]
  },
  {
   "cell_type": "code",
   "execution_count": 32,
   "id": "2dc11c13",
   "metadata": {},
   "outputs": [
    {
     "data": {
      "text/plain": [
       "0.9859956178877445"
      ]
     },
     "execution_count": 32,
     "metadata": {},
     "output_type": "execute_result"
    }
   ],
   "source": [
    "from sklearn.metrics import r2_score\n",
    "r2_score(y_test,y_pred) #R2\n",
    "\n",
    "## R2는 기본 score()함수에 사용되는 평가지표임"
   ]
  },
  {
   "cell_type": "code",
   "execution_count": null,
   "id": "2f5b0077",
   "metadata": {},
   "outputs": [],
   "source": []
  }
 ],
 "metadata": {
  "kernelspec": {
   "display_name": "Python 3 (ipykernel)",
   "language": "python",
   "name": "python3"
  },
  "language_info": {
   "codemirror_mode": {
    "name": "ipython",
    "version": 3
   },
   "file_extension": ".py",
   "mimetype": "text/x-python",
   "name": "python",
   "nbconvert_exporter": "python",
   "pygments_lexer": "ipython3",
   "version": "3.9.12"
  }
 },
 "nbformat": 4,
 "nbformat_minor": 5
}
