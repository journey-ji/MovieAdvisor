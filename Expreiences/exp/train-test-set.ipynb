{
 "cells": [
  {
   "cell_type": "markdown",
   "id": "ea27b823",
   "metadata": {},
   "source": [
    "# Trainning Set & Test Set\n",
    "\n",
    "\n",
    "\n",
    "#### 훈련셋과 테스트셋 분리 이유,\n",
    "1. 훈련셋을 통해 예측모델을 만들고 이를 테스트셋과 비교하여 얼마나 정확한 예측모델을 만들었는가 판단하기 위함\n"
   ]
  },
  {
   "cell_type": "code",
   "execution_count": null,
   "id": "b0321d43",
   "metadata": {},
   "outputs": [],
   "source": []
  }
 ],
 "metadata": {
  "kernelspec": {
   "display_name": "Python 3 (ipykernel)",
   "language": "python",
   "name": "python3"
  },
  "language_info": {
   "codemirror_mode": {
    "name": "ipython",
    "version": 3
   },
   "file_extension": ".py",
   "mimetype": "text/x-python",
   "name": "python",
   "nbconvert_exporter": "python",
   "pygments_lexer": "ipython3",
   "version": "3.9.12"
  }
 },
 "nbformat": 4,
 "nbformat_minor": 5
}
