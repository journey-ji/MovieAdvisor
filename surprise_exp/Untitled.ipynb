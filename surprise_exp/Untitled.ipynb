{
 "cells": [
  {
   "cell_type": "markdown",
   "id": "0438db9f",
   "metadata": {},
   "source": [
    "# Surprise 패키지"
   ]
  },
  {
   "cell_type": "code",
   "execution_count": 2,
   "id": "4414f721",
   "metadata": {},
   "outputs": [
    {
     "name": "stdout",
     "output_type": "stream",
     "text": [
      "1.1.3\n"
     ]
    }
   ],
   "source": [
    "import surprise\n",
    "print(surprise.__version__)"
   ]
  },
  {
   "cell_type": "markdown",
   "id": "d4f1c96e",
   "metadata": {},
   "source": [
    "## surprise 를 이용한 추천 시스템 구축"
   ]
  },
  {
   "cell_type": "code",
   "execution_count": 4,
   "id": "b2c954ab",
   "metadata": {},
   "outputs": [],
   "source": [
    "## 라이브러리 import\n",
    "from surprise import SVD, Dataset, accuracy\n",
    "from surprise.model_selection import train_test_split\n"
   ]
  },
  {
   "cell_type": "markdown",
   "id": "501ebfdd",
   "metadata": {},
   "source": [
    "### 내장 데이터를 로드하고 학습과 테스트 데이터로 분리하기"
   ]
  },
  {
   "cell_type": "code",
   "execution_count": 7,
   "id": "e84d471b",
   "metadata": {},
   "outputs": [
    {
     "name": "stdout",
     "output_type": "stream",
     "text": [
      "Dataset ml-100k could not be found. Do you want to download it? [Y/n] y\n",
      "Trying to download dataset from https://files.grouplens.org/datasets/movielens/ml-100k.zip...\n",
      "Done! Dataset ml-100k has been saved to /Users/journeyji/.surprise_data/ml-100k\n"
     ]
    }
   ],
   "source": [
    "data = Dataset.load_builtin('ml-100k')\n",
    "trainset, testset = train_test_split(data,test_size=.25, random_state=0)"
   ]
  },
  {
   "cell_type": "markdown",
   "id": "9c6f64a1",
   "metadata": {},
   "source": [
    "### 추천 행렬 분해 알고리즘을 통해 SVD 객체 생성 및 학습 수행"
   ]
  },
  {
   "cell_type": "code",
   "execution_count": 8,
   "id": "31d196b7",
   "metadata": {},
   "outputs": [
    {
     "data": {
      "text/plain": [
       "<surprise.prediction_algorithms.matrix_factorization.SVD at 0x7fa4a6532fa0>"
      ]
     },
     "execution_count": 8,
     "metadata": {},
     "output_type": "execute_result"
    }
   ],
   "source": [
    "## SVD 객체 생성\n",
    "algo = SVD()\n",
    "## trainset에 대하여 학습 수행\n",
    "algo.fit(trainset)"
   ]
  },
  {
   "cell_type": "markdown",
   "id": "ad05272c",
   "metadata": {},
   "source": [
    "### testset의 예상 평점 예측하기"
   ]
  },
  {
   "cell_type": "code",
   "execution_count": 9,
   "id": "bafdfdfb",
   "metadata": {},
   "outputs": [
    {
     "name": "stdout",
     "output_type": "stream",
     "text": [
      "prediction type : <class 'list'>  size: 25000\n",
      "prediction 결과의 최초 5개 추출\n"
     ]
    },
    {
     "data": {
      "text/plain": [
       "[Prediction(uid='120', iid='282', r_ui=4.0, est=3.4641042077045183, details={'was_impossible': False}),\n",
       " Prediction(uid='882', iid='291', r_ui=4.0, est=3.706746308694536, details={'was_impossible': False}),\n",
       " Prediction(uid='535', iid='507', r_ui=5.0, est=3.954745531575149, details={'was_impossible': False}),\n",
       " Prediction(uid='697', iid='244', r_ui=5.0, est=3.4830527684521932, details={'was_impossible': False}),\n",
       " Prediction(uid='751', iid='385', r_ui=4.0, est=3.412134827383335, details={'was_impossible': False})]"
      ]
     },
     "execution_count": 9,
     "metadata": {},
     "output_type": "execute_result"
    }
   ],
   "source": [
    "## testset을 통해 평점 예측\n",
    "predictions = algo.test(testset)\n",
    "print('prediction type :',type(predictions),' size:',len(predictions))\n",
    "print('prediction 결과의 최초 5개 추출')\n",
    "predictions[:5]"
   ]
  },
  {
   "cell_type": "code",
   "execution_count": 10,
   "id": "3d25a240",
   "metadata": {},
   "outputs": [
    {
     "data": {
      "text/plain": [
       "[('120', '282', 3.4641042077045183),\n",
       " ('882', '291', 3.706746308694536),\n",
       " ('535', '507', 3.954745531575149)]"
      ]
     },
     "execution_count": 10,
     "metadata": {},
     "output_type": "execute_result"
    }
   ],
   "source": [
    "## 예측 평점만 출력하기\n",
    "[(pred.uid, pred.iid, pred.est) for pred in predictions[:3]]"
   ]
  },
  {
   "cell_type": "markdown",
   "id": "4efdffa5",
   "metadata": {},
   "source": [
    "### predict() 메소드는 개별 사용자와 아이템에 대한 예측 평점정보 반환"
   ]
  },
  {
   "cell_type": "code",
   "execution_count": 11,
   "id": "14ea28ec",
   "metadata": {},
   "outputs": [
    {
     "name": "stdout",
     "output_type": "stream",
     "text": [
      "user: 196        item: 302        r_ui = None   est = 4.25   {'was_impossible': False}\n"
     ]
    }
   ],
   "source": [
    "## 입력시 사용자 아이디와 아이템 아이디는 문자열로 입력해야 함\n",
    "uid = str(196)\n",
    "iid = str(302)\n",
    "pred = algo.predict(uid,iid)\n",
    "print(pred)"
   ]
  },
  {
   "cell_type": "markdown",
   "id": "89f54da4",
   "metadata": {},
   "source": [
    "### RMSE 평가하기"
   ]
  },
  {
   "cell_type": "code",
   "execution_count": 13,
   "id": "2b899b12",
   "metadata": {},
   "outputs": [
    {
     "name": "stdout",
     "output_type": "stream",
     "text": [
      "RMSE: 0.9491\n"
     ]
    },
    {
     "data": {
      "text/plain": [
       "0.949132731014194"
      ]
     },
     "execution_count": 13,
     "metadata": {},
     "output_type": "execute_result"
    }
   ],
   "source": [
    "accuracy.rmse(predictions)"
   ]
  },
  {
   "cell_type": "markdown",
   "id": "2bc66642",
   "metadata": {},
   "source": [
    "## Surprise 주요 모듈\n",
    "csv 파일로 사용자 평점 데이터 생성"
   ]
  },
  {
   "cell_type": "code",
   "execution_count": 15,
   "id": "db5903a9",
   "metadata": {},
   "outputs": [],
   "source": [
    "import pandas as pd\n",
    "\n",
    "ratings = pd.read_csv('../../data/ml-latest-small/ratings.csv')\n",
    "\n",
    "## index와 header를 모두 제거한 ratings_noh.csv 파일 생성\n",
    "ratings.to_csv('../../data/ml-latest-small/ratings_noh.csv',index=False,header=False)"
   ]
  },
  {
   "cell_type": "markdown",
   "id": "a45b1a99",
   "metadata": {},
   "source": [
    "### Reader 클래스로파일의 포맷을 지정, Dataset의 load_from_file()을 이용하여 데이터셋 로드"
   ]
  },
  {
   "cell_type": "code",
   "execution_count": 18,
   "id": "c69d93f5",
   "metadata": {},
   "outputs": [],
   "source": [
    "from surprise import Reader\n",
    "\n",
    "## 형식 지정\n",
    "reader = Reader(line_format = 'user item rating timestamp',sep=',',rating_scale=(0.5,5))\n",
    "\n",
    "## 지정된 형식으로 ratings_noh.csv 파일의 데이터를 data 변수에 저장\n",
    "data = Dataset.load_from_file('../../data/ml-latest-small/ratings_noh.csv',reader=reader)"
   ]
  },
  {
   "cell_type": "markdown",
   "id": "06b6b777",
   "metadata": {},
   "source": [
    "### (Surprise)학습과 테스트 데이터 세트로 분할하고 SVD로 학습후 테스트 데이터 평점 예측 후 RMSE 평가"
   ]
  },
  {
   "cell_type": "code",
   "execution_count": 21,
   "id": "493f6827",
   "metadata": {},
   "outputs": [
    {
     "name": "stdout",
     "output_type": "stream",
     "text": [
      "RMSE: 0.8682\n"
     ]
    },
    {
     "data": {
      "text/plain": [
       "0.8681952927143516"
      ]
     },
     "execution_count": 21,
     "metadata": {},
     "output_type": "execute_result"
    }
   ],
   "source": [
    "## 훈련셋, 테스트셋 분할\n",
    "trainset, testset = train_test_split(data,test_size=.25,random_state=0)\n",
    "\n",
    "## SVD 학습\n",
    "algo = SVD(n_factors =50, random_state = 0)\n",
    "algo.fit(trainset)\n",
    "\n",
    "## 데이터 평점 예측\n",
    "predictions = algo.test(testset)\n",
    "\n",
    "##RMSE 평가\n",
    "accuracy.rmse(predictions)"
   ]
  },
  {
   "cell_type": "markdown",
   "id": "a7ba9bd6",
   "metadata": {},
   "source": [
    "### (Pandas,Datafrane)학습과 테스트 데이터 세트로 분할하고 SVD로 학습후 테스트 데이터 평점 예측 후 RMSE 평가"
   ]
  },
  {
   "cell_type": "code",
   "execution_count": 23,
   "id": "84695e28",
   "metadata": {},
   "outputs": [
    {
     "name": "stdout",
     "output_type": "stream",
     "text": [
      "RMSE: 0.8682\n"
     ]
    },
    {
     "data": {
      "text/plain": [
       "0.8681952927143516"
      ]
     },
     "execution_count": 23,
     "metadata": {},
     "output_type": "execute_result"
    }
   ],
   "source": [
    "import pandas as pd\n",
    "from surprise import Reader, Dataset\n",
    "\n",
    "ratings = pd.read_csv('../../data/ml-latest-small/ratings.csv')\n",
    "reader = Reader(rating_scale=(0.5,5))\n",
    "\n",
    "data = Dataset.load_from_df(ratings[['userId','movieId','rating']], reader)\n",
    "trainset, testset = train_test_split(data,test_size=.25,random_state = 0)\n",
    "\n",
    "algo = SVD(n_factors=50, random_state=0)\n",
    "algo.fit(trainset)\n",
    "predictions = algo.test(testset)\n",
    "accuracy.rmse(predictions)"
   ]
  },
  {
   "cell_type": "markdown",
   "id": "5aabb3cb",
   "metadata": {},
   "source": [
    "## 교차 검증 그리고 하이퍼 파라미터 튜닝"
   ]
  },
  {
   "cell_type": "markdown",
   "id": "0572fd0a",
   "metadata": {},
   "source": [
    "### cross_validate() 이용한 교차검증"
   ]
  },
  {
   "cell_type": "code",
   "execution_count": 26,
   "id": "b307ce54",
   "metadata": {},
   "outputs": [
    {
     "name": "stdout",
     "output_type": "stream",
     "text": [
      "Evaluating RMSE, MAE of algorithm SVD on 5 split(s).\n",
      "\n",
      "                  Fold 1  Fold 2  Fold 3  Fold 4  Fold 5  Mean    Std     \n",
      "RMSE (testset)    0.8717  0.8758  0.8758  0.8769  0.8723  0.8745  0.0021  \n",
      "MAE (testset)     0.6684  0.6745  0.6715  0.6750  0.6691  0.6717  0.0027  \n",
      "Fit time          0.89    0.85    0.84    0.84    0.89    0.86    0.02    \n",
      "Test time         0.16    0.11    0.11    0.11    0.12    0.12    0.02    \n"
     ]
    },
    {
     "data": {
      "text/plain": [
       "{'test_rmse': array([0.87168852, 0.87579787, 0.87584847, 0.87686525, 0.87229634]),\n",
       " 'test_mae': array([0.6684076 , 0.67454501, 0.67148385, 0.67504269, 0.66911222]),\n",
       " 'fit_time': (0.887362003326416,\n",
       "  0.8521490097045898,\n",
       "  0.8356571197509766,\n",
       "  0.8351569175720215,\n",
       "  0.8902432918548584),\n",
       " 'test_time': (0.1585988998413086,\n",
       "  0.11165809631347656,\n",
       "  0.10645127296447754,\n",
       "  0.11489987373352051,\n",
       "  0.11766290664672852)}"
      ]
     },
     "execution_count": 26,
     "metadata": {},
     "output_type": "execute_result"
    }
   ],
   "source": [
    "from surprise.model_selection import cross_validate\n",
    "\n",
    "ratings = pd.read_csv('../../data/ml-latest-small/ratings.csv')\n",
    "reader = Reader(rating_scale=(0.5,5))\n",
    "data = Dataset.load_from_df(ratings[['userId','movieId','rating']],reader)\n",
    "\n",
    "algo = SVD(random_state=0)\n",
    "cross_validate(algo,data,measures=['RMSE','MAE'],cv=5,verbose=True)"
   ]
  },
  {
   "cell_type": "markdown",
   "id": "5ffeb8e3",
   "metadata": {},
   "source": [
    "### GridSearchCV 이용"
   ]
  },
  {
   "cell_type": "code",
   "execution_count": 30,
   "id": "74c31c78",
   "metadata": {},
   "outputs": [
    {
     "name": "stdout",
     "output_type": "stream",
     "text": [
      "0.8777220685043856\n",
      "{'n_epochs': 20, 'n_factors': 50}\n"
     ]
    }
   ],
   "source": [
    "from surprise.model_selection import GridSearchCV\n",
    "\n",
    "param_grid = {'n_epochs':[20,40,60],'n_factors':[50,100,200]}\n",
    "\n",
    "# CV를 3개 폴드세트로 지정, 성능평가는 rmse, mae로 수행\n",
    "gs = GridSearchCV(SVD,param_grid,measures=['rmse','mae'],cv=3)\n",
    "gs.fit(data)\n",
    "\n",
    "\n",
    "# 최고 rmse evaluation 점수와 그 때의 하이퍼 파라미터 출력\n",
    "print(gs.best_score['rmse'])\n",
    "print(gs.best_params['rmse'])"
   ]
  },
  {
   "cell_type": "markdown",
   "id": "794b2862",
   "metadata": {},
   "source": [
    "## Surprise 를 이용한 개인화 영화 추천 시스템 구축하기\n"
   ]
  },
  {
   "cell_type": "markdown",
   "id": "ce2767a0",
   "metadata": {},
   "source": [
    "### DatasetAutoFolds 를 이용하여 전체 데이터를 TrainSet 클래스로 변환\n",
    "\n",
    "SVD 학습은 trainset 클래스 이용해야한다."
   ]
  },
  {
   "cell_type": "code",
   "execution_count": 33,
   "id": "c0a58863",
   "metadata": {},
   "outputs": [],
   "source": [
    "from surprise.dataset import DatasetAutoFolds\n",
    "\n",
    "reader = Reader(line_format='user item rating timestamp',sep=',',rating_scale=(0.5,5))\n",
    "data_folds = DatasetAutoFolds(ratings_file='../../data/ml-latest-small/ratings_noh.csv',reader = reader)\n",
    "\n",
    "trainset = data_folds.build_full_trainset()\n",
    "\n"
   ]
  },
  {
   "cell_type": "markdown",
   "id": "bfaadbda",
   "metadata": {},
   "source": [
    "### SVD로 학습하기"
   ]
  },
  {
   "cell_type": "code",
   "execution_count": 34,
   "id": "45a64f7a",
   "metadata": {},
   "outputs": [
    {
     "data": {
      "text/plain": [
       "<surprise.prediction_algorithms.matrix_factorization.SVD at 0x7fa4a957dc70>"
      ]
     },
     "execution_count": 34,
     "metadata": {},
     "output_type": "execute_result"
    }
   ],
   "source": [
    "algo = SVD(n_epochs=20,n_factors=50, random_state=0)\n",
    "algo.fit(trainset)"
   ]
  },
  {
   "cell_type": "code",
   "execution_count": 38,
   "id": "9dea9ce1",
   "metadata": {},
   "outputs": [
    {
     "name": "stdout",
     "output_type": "stream",
     "text": [
      "사용자 아이디 9는 영화 아이디 42의 평점 없음\n",
      "    movieId                   title              genres\n",
      "38       42  Dead Presidents (1995)  Action|Crime|Drama\n"
     ]
    }
   ],
   "source": [
    "# 영화에 대한 상세 속성 정보 DataFrame 로딩\n",
    "movies = pd.read_csv('../../data/ml-latest-small/movies.csv')\n",
    "\n",
    "# userId= 9 의 movie 데이터를 추출하여 movieId=42데이터가 존재하는지 확ㄱ인\n",
    "\n",
    "movieIds = ratings[ratings['userId']==9]['movieId']\n",
    "if movieIds[movieIds==42].count()==0:\n",
    "    print('사용자 아이디 9는 영화 아이디 42의 평점 없음')\n",
    "print(movies[movies['movieId']==42])"
   ]
  },
  {
   "cell_type": "code",
   "execution_count": 40,
   "id": "44edc983",
   "metadata": {},
   "outputs": [
    {
     "name": "stdout",
     "output_type": "stream",
     "text": [
      "user: 9          item: 42         r_ui = None   est = 3.13   {'was_impossible': False}\n"
     ]
    }
   ],
   "source": [
    "## 9번 사용자의 42번 영화에 대한 예측 평점\n",
    "uid = str(9)\n",
    "iid = str(42)\n",
    "\n",
    "pred = algo.predict(uid, iid,verbose=True)"
   ]
  },
  {
   "cell_type": "code",
   "execution_count": 41,
   "id": "37962420",
   "metadata": {},
   "outputs": [
    {
     "name": "stdout",
     "output_type": "stream",
     "text": [
      "평점 매긴 영화수:  46 추천 대상 영화수:  9696 전체 영화쉬:  9742\n"
     ]
    }
   ],
   "source": [
    "def get_unseen_surprise(ratings,movies,userId):\n",
    "    ## 특정 userId 사용자가 평점을 매긴 모든 영화를 리스트로 생성\n",
    "    seen_movies = ratings[ratings['userId']==userId]['movieId'].tolist()\n",
    "    \n",
    "    # 모든 영화들의 movieId를 리스트로 생성\n",
    "    total_movies = movies['movieId'].tolist()\n",
    "    \n",
    "    # 모든 영화들의 movieId 중에 이미 평점을 매긴 영화의 movieId를 제거한 리스트를 생성\n",
    "    unseen_movies = [movie for movie in total_movies if movie not in seen_movies]\n",
    "    print('평점 매긴 영화수: ',len(seen_movies),'추천 대상 영화수: ',len(unseen_movies), '전체 영화쉬: ',len(total_movies))\n",
    "    \n",
    "    \n",
    "    return unseen_movies\n",
    "\n",
    "unseen_movies = get_unseen_surprise(ratings,movies,9)"
   ]
  },
  {
   "cell_type": "code",
   "execution_count": null,
   "id": "f8c0a3d8",
   "metadata": {},
   "outputs": [],
   "source": [
    "## 추천 함수\n",
    "\n",
    "def recomm_movie_by_surprise(algo,userId,unseen_movies,top_n=10):\n",
    "    predictions = [algo.predict(str(userId),str(movieId)) for movieId in unseen_movies]\n",
    "    \n",
    "    def sortkey_est(pred):\n",
    "        return pred.est\n",
    "    \n",
    "    "
   ]
  }
 ],
 "metadata": {
  "kernelspec": {
   "display_name": "Python 3 (ipykernel)",
   "language": "python",
   "name": "python3"
  },
  "language_info": {
   "codemirror_mode": {
    "name": "ipython",
    "version": 3
   },
   "file_extension": ".py",
   "mimetype": "text/x-python",
   "name": "python",
   "nbconvert_exporter": "python",
   "pygments_lexer": "ipython3",
   "version": "3.9.12"
  }
 },
 "nbformat": 4,
 "nbformat_minor": 5
}
